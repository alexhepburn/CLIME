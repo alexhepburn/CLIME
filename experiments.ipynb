{
 "cells": [
  {
   "cell_type": "markdown",
   "id": "6b76d2f4",
   "metadata": {},
   "source": [
    "## Colab: install deps\n",
    "N.B. if you get errors go to: \n",
    "  - Runtime -> Disconnect and Delete Runtime\n",
    "  - then restart"
   ]
  },
  {
   "cell_type": "code",
   "execution_count": 1,
   "id": "30f49001",
   "metadata": {},
   "outputs": [],
   "source": [
    "if 'google.colab' in str(get_ipython()):\n",
    "    !yes | pip install git+https://github.com/mattclifford1/CLIME/ -qqq > /dev/null\n",
    "%load_ext autoreload\n",
    "%autoreload 2\n",
    "import clime\n",
    "from clime.utils.notebooks import *"
   ]
  },
  {
   "cell_type": "markdown",
   "id": "437a60b6",
   "metadata": {},
   "source": [
    "# Experiments with CLIME "
   ]
  },
  {
   "cell_type": "code",
   "execution_count": 2,
   "id": "bdeab775",
   "metadata": {},
   "outputs": [
    {
     "name": "stdout",
     "output_type": "stream",
     "text": [
      "CLASS SAMPLES:\n"
     ]
    },
    {
     "data": {
      "application/vnd.jupyter.widget-view+json": {
       "model_id": "3098fdd34b02494db8606510b13e3121",
       "version_major": 2,
       "version_minor": 0
      },
      "text/plain": [
       "interactive(children=(IntSlider(value=25, description='class_1', max=200, min=1), IntSlider(value=75, descript…"
      ]
     },
     "metadata": {},
     "output_type": "display_data"
    },
    {
     "name": "stdout",
     "output_type": "stream",
     "text": [
      "DATASET:\n"
     ]
    },
    {
     "data": {
      "application/vnd.jupyter.widget-view+json": {
       "model_id": "8656bde2e4044e8a9ee698b0558ec49e",
       "version_major": 2,
       "version_minor": 0
      },
      "text/plain": [
       "interactive(children=(Dropdown(description='x', options=('moons', 'guassian'), value='moons'), Output()), _dom…"
      ]
     },
     "metadata": {},
     "output_type": "display_data"
    },
    {
     "name": "stdout",
     "output_type": "stream",
     "text": [
      "DATASET REBALANCING:\n"
     ]
    },
    {
     "data": {
      "application/vnd.jupyter.widget-view+json": {
       "model_id": "6afa5d6452f646c9b38b04e8fbe07c22",
       "version_major": 2,
       "version_minor": 0
      },
      "text/plain": [
       "interactive(children=(Dropdown(description='x', options=('none', 'oversampling'), value='none'), Output()), _d…"
      ]
     },
     "metadata": {},
     "output_type": "display_data"
    },
    {
     "name": "stdout",
     "output_type": "stream",
     "text": [
      "MODEL:\n"
     ]
    },
    {
     "data": {
      "application/vnd.jupyter.widget-view+json": {
       "model_id": "1f6d6f5ba494447b952558721f84cbcf",
       "version_major": 2,
       "version_minor": 0
      },
      "text/plain": [
       "interactive(children=(Dropdown(description='x', options=('SVM', 'SVM balanced training'), value='SVM'), Output…"
      ]
     },
     "metadata": {},
     "output_type": "display_data"
    },
    {
     "name": "stdout",
     "output_type": "stream",
     "text": [
      "MODEL BALANCER:\n"
     ]
    },
    {
     "data": {
      "application/vnd.jupyter.widget-view+json": {
       "model_id": "59e2f84e50fc4cc38a8ad500826422af",
       "version_major": 2,
       "version_minor": 0
      },
      "text/plain": [
       "interactive(children=(Dropdown(description='x', options=('boundary adjust', 'probability adjust', 'none'), val…"
      ]
     },
     "metadata": {},
     "output_type": "display_data"
    },
    {
     "name": "stdout",
     "output_type": "stream",
     "text": [
      "EXPLAINER:\n"
     ]
    },
    {
     "data": {
      "application/vnd.jupyter.widget-view+json": {
       "model_id": "e5aaeb07559640eabe74fb5bf12650b1",
       "version_major": 2,
       "version_minor": 0
      },
      "text/plain": [
       "interactive(children=(Dropdown(description='x', options=('bLIMEy (normal)', 'bLIMEy (cost sensitive training)'…"
      ]
     },
     "metadata": {},
     "output_type": "display_data"
    },
    {
     "name": "stdout",
     "output_type": "stream",
     "text": [
      "EVALUATION:\n"
     ]
    },
    {
     "data": {
      "application/vnd.jupyter.widget-view+json": {
       "model_id": "3a722d80afcd4265bdecbc259fb37bb1",
       "version_major": 2,
       "version_minor": 0
      },
      "text/plain": [
       "interactive(children=(Dropdown(description='x', options=('fidelity (normal)', 'fidelity (local)', 'fidelity (c…"
      ]
     },
     "metadata": {},
     "output_type": "display_data"
    }
   ],
   "source": [
    "data_store = get_pipeline_widgets()"
   ]
  },
  {
   "cell_type": "code",
   "execution_count": 11,
   "id": "768f4bae",
   "metadata": {},
   "outputs": [
    {
     "data": {
      "application/javascript": [
       "IPython.notebook.execute_cells_below()"
      ],
      "text/plain": [
       "<IPython.core.display.Javascript object>"
      ]
     },
     "metadata": {},
     "output_type": "display_data"
    },
    {
     "data": {
      "application/vnd.jupyter.widget-view+json": {
       "model_id": "9819d9eca5f14933853618f3a7389587",
       "version_major": 2,
       "version_minor": 0
      },
      "text/plain": [
       "Button(description='RUN PIPELINE', style=ButtonStyle())"
      ]
     },
     "metadata": {},
     "output_type": "display_data"
    }
   ],
   "source": [
    "get_run_button()"
   ]
  },
  {
   "cell_type": "code",
   "execution_count": 12,
   "id": "36ebb280",
   "metadata": {},
   "outputs": [
    {
     "name": "stdout",
     "output_type": "stream",
     "text": [
      "fidelity (normal): {'avg': 0.613271105423614, 'std': 0.08191242864574154}\n"
     ]
    }
   ],
   "source": [
    "opts = get_config(data_store)\n",
    "p = clime.pipeline.construct(opts)\n",
    "print(f\"{opts['evaluation']}: {p.run(parallel_eval=True)}\")"
   ]
  }
 ],
 "metadata": {
  "kernelspec": {
   "display_name": "Python 3 (ipykernel)",
   "language": "python",
   "name": "python3"
  },
  "language_info": {
   "codemirror_mode": {
    "name": "ipython",
    "version": 3
   },
   "file_extension": ".py",
   "mimetype": "text/x-python",
   "name": "python",
   "nbconvert_exporter": "python",
   "pygments_lexer": "ipython3",
   "version": "3.9.15"
  }
 },
 "nbformat": 4,
 "nbformat_minor": 5
}
