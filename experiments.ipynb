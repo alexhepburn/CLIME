{
 "cells": [
  {
   "cell_type": "code",
   "execution_count": 1,
   "id": "30f49001",
   "metadata": {},
   "outputs": [
    {
     "name": "stderr",
     "output_type": "stream",
     "text": [
      "23-Feb-22 12:01:11 fatf.utils.array.tools INFO     Using numpy's numpy.lib.recfunctions.structured_to_unstructured as fatf.utils.array.tools.structured_to_unstructured and fatf.utils.array.tools.structured_to_unstructured_row.\n"
     ]
    },
    {
     "ename": "SyntaxError",
     "evalue": "invalid syntax (key_points.py, line 39)",
     "output_type": "error",
     "traceback": [
      "Traceback \u001b[0;36m(most recent call last)\u001b[0m:\n",
      "\u001b[0m  File \u001b[1;32m~/anaconda3/envs/clime/lib/python3.9/site-packages/IPython/core/interactiveshell.py:3433\u001b[0m in \u001b[1;35mrun_code\u001b[0m\n    exec(code_obj, self.user_global_ns, self.user_ns)\u001b[0m\n",
      "\u001b[0m  Cell \u001b[1;32mIn[1], line 3\u001b[0m\n    import clime\u001b[0m\n",
      "\u001b[0m  File \u001b[1;32m~/projects/CLIME/clime/__init__.py:5\u001b[0m\n    from .pipeline import make_pipeline\u001b[0m\n",
      "\u001b[0m  File \u001b[1;32m~/projects/CLIME/clime/pipeline/__init__.py:1\u001b[0m\n    from clime import data, models, explainer, evaluation\u001b[0m\n",
      "\u001b[0;36m  File \u001b[0;32m~/projects/CLIME/clime/evaluation/__init__.py:3\u001b[0;36m\n\u001b[0;31m    from .key_points import get_key_points_score\u001b[0;36m\n",
      "\u001b[0;36m  File \u001b[0;32m~/projects/CLIME/clime/evaluation/key_points.py:39\u001b[0;36m\u001b[0m\n\u001b[0;31m    metric=self.metric)\u001b[0m\n\u001b[0m    ^\u001b[0m\n\u001b[0;31mSyntaxError\u001b[0m\u001b[0;31m:\u001b[0m invalid syntax\n"
     ]
    }
   ],
   "source": [
    "%load_ext autoreload\n",
    "%autoreload 2\n",
    "import clime\n",
    "from clime.utils.notebooks import *"
   ]
  },
  {
   "cell_type": "markdown",
   "id": "437a60b6",
   "metadata": {},
   "source": [
    "# Experiments with CLIME "
   ]
  },
  {
   "cell_type": "code",
   "execution_count": null,
   "id": "bdeab775",
   "metadata": {},
   "outputs": [],
   "source": [
    "data_store = get_pipeline_widgets()"
   ]
  },
  {
   "cell_type": "code",
   "execution_count": null,
   "id": "768f4bae",
   "metadata": {},
   "outputs": [],
   "source": [
    "get_run_button()"
   ]
  },
  {
   "cell_type": "code",
   "execution_count": null,
   "id": "36ebb280",
   "metadata": {},
   "outputs": [],
   "source": [
    "results = run_experiments(data_store)"
   ]
  },
  {
   "cell_type": "code",
   "execution_count": null,
   "id": "66c8e2f2",
   "metadata": {},
   "outputs": [],
   "source": [
    "plot_model_and_stats(results)"
   ]
  }
 ],
 "metadata": {
  "kernelspec": {
   "display_name": "Python 3 (ipykernel)",
   "language": "python",
   "name": "python3"
  },
  "language_info": {
   "codemirror_mode": {
    "name": "ipython",
    "version": 3
   },
   "file_extension": ".py",
   "mimetype": "text/x-python",
   "name": "python",
   "nbconvert_exporter": "python",
   "pygments_lexer": "ipython3",
   "version": "3.9.15"
  }
 },
 "nbformat": 4,
 "nbformat_minor": 5
}
