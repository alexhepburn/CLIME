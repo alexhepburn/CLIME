{
 "cells": [
  {
   "cell_type": "markdown",
   "id": "6b76d2f4",
   "metadata": {},
   "source": [
    "## Colab: install deps\n",
    "N.B. if you get errors go to: \n",
    "  - Runtime -> Disconnect and Delete Runtime\n",
    "  - then restart"
   ]
  },
  {
   "cell_type": "code",
   "execution_count": 1,
   "id": "30f49001",
   "metadata": {},
   "outputs": [],
   "source": [
    "if 'google.colab' in str(get_ipython()):\n",
    "    !yes | pip install git+https://github.com/mattclifford1/CLIME/ -qqq > /dev/null\n",
    "%load_ext autoreload\n",
    "%autoreload 2\n",
    "import clime\n",
    "from clime.utils.notebooks import *"
   ]
  },
  {
   "cell_type": "markdown",
   "id": "437a60b6",
   "metadata": {},
   "source": [
    "# Experiments with CLIME "
   ]
  },
  {
   "cell_type": "code",
   "execution_count": 2,
   "id": "bdeab775",
   "metadata": {},
   "outputs": [
    {
     "name": "stdout",
     "output_type": "stream",
     "text": [
      "synthetic datasets\n"
     ]
    },
    {
     "data": {
      "application/vnd.jupyter.widget-view+json": {
       "model_id": "bbb74a59d248403d8ffd8d3df30cb32a",
       "version_major": 2,
       "version_minor": 0
      },
      "text/plain": [
       "IntRangeSlider(value=(25, 75), description='CLASS SAMPLES (synthetic datasets):', max=200, min=1)"
      ]
     },
     "metadata": {},
     "output_type": "display_data"
    },
    {
     "name": "stdout",
     "output_type": "stream",
     "text": [
      "real datasets\n"
     ]
    },
    {
     "data": {
      "application/vnd.jupyter.widget-view+json": {
       "model_id": "81d141d211a14541897a1104b8039ebc",
       "version_major": 2,
       "version_minor": 0
      },
      "text/plain": [
       "FloatSlider(value=0.1, description='PERCENT DATA (real datasets):', max=10.0, min=0.01)"
      ]
     },
     "metadata": {},
     "output_type": "display_data"
    },
    {
     "data": {
      "application/vnd.jupyter.widget-view+json": {
       "model_id": "681cc1820aa843bfae7073471673e166",
       "version_major": 2,
       "version_minor": 0
      },
      "text/plain": [
       "ToggleButtons(description='DATASET:', options=('moons', 'guassian', 'credit scoring 1', 'credit scoring 2', 'd…"
      ]
     },
     "metadata": {},
     "output_type": "display_data"
    },
    {
     "data": {
      "application/vnd.jupyter.widget-view+json": {
       "model_id": "36ea05dff8ad48409528a1ce545f9e1e",
       "version_major": 2,
       "version_minor": 0
      },
      "text/plain": [
       "ToggleButtons(description='DATASET REBALANCING:', options=('none', 'oversampling'), value='none')"
      ]
     },
     "metadata": {},
     "output_type": "display_data"
    },
    {
     "data": {
      "application/vnd.jupyter.widget-view+json": {
       "model_id": "844953aa580c421eac4a0c82ceb6c157",
       "version_major": 2,
       "version_minor": 0
      },
      "text/plain": [
       "ToggleButtons(description='MODEL:', options=('SVM', 'SVM balanced training'), value='SVM')"
      ]
     },
     "metadata": {},
     "output_type": "display_data"
    },
    {
     "data": {
      "application/vnd.jupyter.widget-view+json": {
       "model_id": "748efcd636544cc2a4f3bf488a6f20b8",
       "version_major": 2,
       "version_minor": 0
      },
      "text/plain": [
       "SelectMultiple(description='MODEL BALANCER:', index=(0,), options=('boundary adjust', 'probability adjust', 'n…"
      ]
     },
     "metadata": {},
     "output_type": "display_data"
    },
    {
     "data": {
      "application/vnd.jupyter.widget-view+json": {
       "model_id": "dc2f9242eb9e48aea011e42968c686cf",
       "version_major": 2,
       "version_minor": 0
      },
      "text/plain": [
       "ToggleButtons(description='EXPLAINER:', options=('bLIMEy (normal)', 'bLIMEy (cost sensitive training)', 'bLIME…"
      ]
     },
     "metadata": {},
     "output_type": "display_data"
    },
    {
     "data": {
      "application/vnd.jupyter.widget-view+json": {
       "model_id": "49ae68473850466b81f7be3a646846e5",
       "version_major": 2,
       "version_minor": 0
      },
      "text/plain": [
       "ToggleButtons(description='EVALUATION:', options=('fidelity (normal)', 'fidelity (local)', 'fidelity (class ba…"
      ]
     },
     "metadata": {},
     "output_type": "display_data"
    }
   ],
   "source": [
    "data_store = get_pipeline_widgets()"
   ]
  },
  {
   "cell_type": "code",
   "execution_count": 15,
   "id": "768f4bae",
   "metadata": {},
   "outputs": [
    {
     "data": {
      "application/javascript": [
       "IPython.notebook.execute_cells_below()"
      ],
      "text/plain": [
       "<IPython.core.display.Javascript object>"
      ]
     },
     "metadata": {},
     "output_type": "display_data"
    },
    {
     "data": {
      "application/vnd.jupyter.widget-view+json": {
       "model_id": "732d732d1221450b8eff001c4e26642d",
       "version_major": 2,
       "version_minor": 0
      },
      "text/plain": [
       "Button(description='RUN PIPELINE', style=ButtonStyle())"
      ]
     },
     "metadata": {},
     "output_type": "display_data"
    }
   ],
   "source": [
    "get_run_button()"
   ]
  },
  {
   "cell_type": "code",
   "execution_count": 16,
   "id": "36ebb280",
   "metadata": {},
   "outputs": [
    {
     "name": "stdout",
     "output_type": "stream",
     "text": [
      "====================================================================================================\n",
      "0: {'class samples': (25, 75), 'percent of data': 3.61, 'dataset': 'credit scoring 1', 'dataset rebalancing': 'none', 'model': 'SVM', 'model balancer': 'boundary adjust', 'explainer': 'bLIMEy (normal)', 'evaluation': 'fidelity (normal)'}\n",
      "            Model     accuracy. train: 0.9334151580239337 test: 0.9325980392156863\n",
      "            Model bal accuracy. train: 0.5228469509087821 test: 0.5155826558265583\n"
     ]
    },
    {
     "name": "stderr",
     "output_type": "stream",
     "text": [
      "                                                                                \r"
     ]
    },
    {
     "name": "stdout",
     "output_type": "stream",
     "text": [
      "====================================================================================================\n",
      "1: {'class samples': (25, 75), 'percent of data': 3.61, 'dataset': 'credit scoring 1', 'dataset rebalancing': 'none', 'model': 'SVM', 'model balancer': 'probability adjust', 'explainer': 'bLIMEy (normal)', 'evaluation': 'fidelity (normal)'}\n",
      "            Model     accuracy. train: 0.9334151580239337 test: 0.9325980392156863\n",
      "            Model bal accuracy. train: 0.5228469509087821 test: 0.5155826558265583\n"
     ]
    },
    {
     "name": "stderr",
     "output_type": "stream",
     "text": [
      "                                                                                \r"
     ]
    },
    {
     "name": "stdout",
     "output_type": "stream",
     "text": [
      "====================================================================================================\n",
      "2: {'class samples': (25, 75), 'percent of data': 3.61, 'dataset': 'credit scoring 1', 'dataset rebalancing': 'none', 'model': 'SVM', 'model balancer': 'none', 'explainer': 'bLIMEy (normal)', 'evaluation': 'fidelity (normal)'}\n",
      "            Model     accuracy. train: 0.9334151580239337 test: 0.9325980392156863\n",
      "            Model bal accuracy. train: 0.5228469509087821 test: 0.5155826558265583\n"
     ]
    },
    {
     "name": "stderr",
     "output_type": "stream",
     "text": [
      "                                                                                \r"
     ]
    },
    {
     "data": {
      "image/png": "[encoded data removed]",
      "text/plain": [
       "<Figure size 640x480 with 1 Axes>"
      ]
     },
     "metadata": {},
     "output_type": "display_data"
    }
   ],
   "source": [
    "run_experiments(data_store)"
   ]
  }
 ],
 "metadata": {
  "kernelspec": {
   "display_name": "Python 3 (ipykernel)",
   "language": "python",
   "name": "python3"
  },
  "language_info": {
   "codemirror_mode": {
    "name": "ipython",
    "version": 3
   },
   "file_extension": ".py",
   "mimetype": "text/x-python",
   "name": "python",
   "nbconvert_exporter": "python",
   "pygments_lexer": "ipython3",
   "version": "3.9.15"
  }
 },
 "nbformat": 4,
 "nbformat_minor": 5
}
