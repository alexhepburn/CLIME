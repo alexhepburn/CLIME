{
 "cells": [
  {
   "cell_type": "markdown",
   "id": "6b76d2f4",
   "metadata": {},
   "source": [
    "## Colab: install deps\n",
    "N.B. if you get errors go to: \n",
    "  - Runtime -> Disconnect and Delete Runtime\n",
    "  - then restart"
   ]
  },
  {
   "cell_type": "code",
   "execution_count": 1,
   "id": "30f49001",
   "metadata": {},
   "outputs": [],
   "source": [
    "if 'google.colab' in str(get_ipython()):\n",
    "    !yes | pip install git+https://github.com/mattclifford1/CLIME/ -qqq > /dev/null"
   ]
  },
  {
   "cell_type": "markdown",
   "id": "437a60b6",
   "metadata": {},
   "source": [
    "# Experiments with CLIME "
   ]
  },
  {
   "cell_type": "markdown",
   "id": "1c43ec2d",
   "metadata": {},
   "source": [
    "## Pipeline\n",
    " - dataset:    'moons' or 'guassian'\n",
    " - model:      'normal', 'cost sensitive', 'boundary adjust' or 'probability adjust'\n",
    " - explainer:  'normal', 'cost sensitive training', 'class balanced sample data'\n",
    " - evaluation: 'normal fidelity', 'local fidelity' or 'class balanced fidelity'"
   ]
  },
  {
   "cell_type": "code",
   "execution_count": 14,
   "id": "36ebb280",
   "metadata": {},
   "outputs": [
    {
     "ename": "NameError",
     "evalue": "name 'InputError' is not defined",
     "output_type": "error",
     "traceback": [
      "\u001b[0;31m---------------------------------------------------------------------------\u001b[0m",
      "\u001b[0;31mNameError\u001b[0m                                 Traceback (most recent call last)",
      "Cell \u001b[0;32mIn[14], line 12\u001b[0m\n\u001b[1;32m      1\u001b[0m \u001b[38;5;28;01mfrom\u001b[39;00m \u001b[38;5;21;01mclime\u001b[39;00m \u001b[38;5;28;01mimport\u001b[39;00m pipeline\n\u001b[1;32m      3\u001b[0m opts \u001b[38;5;241m=\u001b[39m {\n\u001b[1;32m      4\u001b[0m         \u001b[38;5;124m'\u001b[39m\u001b[38;5;124mdataset\u001b[39m\u001b[38;5;124m'\u001b[39m:       \u001b[38;5;124m'\u001b[39m\u001b[38;5;124mguassian\u001b[39m\u001b[38;5;124m'\u001b[39m,\n\u001b[1;32m      5\u001b[0m         \u001b[38;5;124m'\u001b[39m\u001b[38;5;124mclass samples\u001b[39m\u001b[38;5;124m'\u001b[39m: [\u001b[38;5;241m25\u001b[39m, \u001b[38;5;241m75\u001b[39m],\n\u001b[0;32m   (...)\u001b[0m\n\u001b[1;32m     10\u001b[0m         \u001b[38;5;124m'\u001b[39m\u001b[38;5;124mevaluation\u001b[39m\u001b[38;5;124m'\u001b[39m:    \u001b[38;5;124m'\u001b[39m\u001b[38;5;124mnormal fidelity\u001b[39m\u001b[38;5;124m'\u001b[39m,\n\u001b[1;32m     11\u001b[0m     }\n\u001b[0;32m---> 12\u001b[0m score \u001b[38;5;241m=\u001b[39m \u001b[43mpipeline\u001b[49m\u001b[38;5;241;43m.\u001b[39;49m\u001b[43mrun\u001b[49m\u001b[43m(\u001b[49m\u001b[43mopts\u001b[49m\u001b[43m)\u001b[49m\n\u001b[1;32m     13\u001b[0m \u001b[38;5;28mprint\u001b[39m(\u001b[38;5;124mf\u001b[39m\u001b[38;5;124m\"\u001b[39m\u001b[38;5;132;01m{\u001b[39;00mopts[\u001b[38;5;124m'\u001b[39m\u001b[38;5;124mevaluation\u001b[39m\u001b[38;5;124m'\u001b[39m]\u001b[38;5;132;01m}\u001b[39;00m\u001b[38;5;124m: \u001b[39m\u001b[38;5;132;01m{\u001b[39;00mscore\u001b[38;5;132;01m}\u001b[39;00m\u001b[38;5;124m\"\u001b[39m)\n",
      "File \u001b[0;32m~/projects/CLIME/clime/pipeline.py:61\u001b[0m, in \u001b[0;36mrun\u001b[0;34m(opts)\u001b[0m\n\u001b[1;32m     59\u001b[0m     blimey \u001b[38;5;241m=\u001b[39m explainer\u001b[38;5;241m.\u001b[39mbLIMEy(clf, train_data[\u001b[38;5;124m'\u001b[39m\u001b[38;5;124mX\u001b[39m\u001b[38;5;124m'\u001b[39m][opts[\u001b[38;5;124m'\u001b[39m\u001b[38;5;124mquery point\u001b[39m\u001b[38;5;124m'\u001b[39m], :], class_weight\u001b[38;5;241m=\u001b[39m\u001b[38;5;28;01mTrue\u001b[39;00m)\n\u001b[1;32m     60\u001b[0m \u001b[38;5;28;01melse\u001b[39;00m:\n\u001b[0;32m---> 61\u001b[0m     \u001b[38;5;28;01mraise\u001b[39;00m \u001b[38;5;167;01mValueError\u001b[39;00m(\u001b[38;5;124mf\u001b[39m\u001b[38;5;124m\"\u001b[39m\u001b[38;5;124mexplainer needs to be \u001b[39m\u001b[38;5;124m'\u001b[39m\u001b[38;5;124mnormal\u001b[39m\u001b[38;5;124m'\u001b[39m\u001b[38;5;124m or \u001b[39m\u001b[38;5;124m'\u001b[39m\u001b[38;5;124mcost sensitive training\u001b[39m\u001b[38;5;124m'\u001b[39m\u001b[38;5;124m not \u001b[39m\u001b[38;5;132;01m{\u001b[39;00mopts[\u001b[38;5;124m'\u001b[39m\u001b[38;5;124mexplainer\u001b[39m\u001b[38;5;124m'\u001b[39m]\u001b[38;5;132;01m}\u001b[39;00m\u001b[38;5;124m\"\u001b[39m)\n\u001b[1;32m     63\u001b[0m \u001b[38;5;124;03m'''\u001b[39;00m\n\u001b[1;32m     64\u001b[0m \u001b[38;5;124;03m  _____   ___   _   _   _  _ _____ ___ ___  _  _\u001b[39;00m\n\u001b[1;32m     65\u001b[0m \u001b[38;5;124;03m | __\\ \\ / /_\\ | | | | | |/_\\_   _|_ _/ _ \\| \\| |\u001b[39;00m\n\u001b[1;32m     66\u001b[0m \u001b[38;5;124;03m | _| \\ V / _ \\| |_| |_| / _ \\| |  | | (_) | .` |\u001b[39;00m\n\u001b[1;32m     67\u001b[0m \u001b[38;5;124;03m |___| \\_/_/ \\_\\____\\___/_/ \\_\\_| |___\\___/|_|\\_|\u001b[39;00m\n\u001b[1;32m     68\u001b[0m \u001b[38;5;124;03m'''\u001b[39;00m\n\u001b[1;32m     69\u001b[0m \u001b[38;5;28;01mif\u001b[39;00m opts[\u001b[38;5;124m'\u001b[39m\u001b[38;5;124mevaluation\u001b[39m\u001b[38;5;124m'\u001b[39m] \u001b[38;5;241m==\u001b[39m \u001b[38;5;124m'\u001b[39m\u001b[38;5;124mnormal fidelity\u001b[39m\u001b[38;5;124m'\u001b[39m:\n",
      "\u001b[0;31mNameError\u001b[0m: name 'InputError' is not defined"
     ]
    }
   ],
   "source": [
    "from clime import pipeline\n",
    "\n",
    "opts = {\n",
    "        'dataset':       'guassian',\n",
    "        'class samples': [25, 75],\n",
    "        'rebalance data': False,\n",
    "        'model':         'cost sensitive',\n",
    "        'explainer':     'class balanced sample data',\n",
    "        'query point':   10,\n",
    "        'evaluation':    'normal fidelity',\n",
    "    }\n",
    "score = pipeline.run(opts)\n",
    "print(f\"{opts['evaluation']}: {score}\")"
   ]
  }
 ],
 "metadata": {
  "kernelspec": {
   "display_name": "Python 3 (ipykernel)",
   "language": "python",
   "name": "python3"
  },
  "language_info": {
   "codemirror_mode": {
    "name": "ipython",
    "version": 3
   },
   "file_extension": ".py",
   "mimetype": "text/x-python",
   "name": "python",
   "nbconvert_exporter": "python",
   "pygments_lexer": "ipython3",
   "version": "3.9.15"
  }
 },
 "nbformat": 4,
 "nbformat_minor": 5
}
