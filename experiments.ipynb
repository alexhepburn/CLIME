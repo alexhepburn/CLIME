{
 "cells": [
  {
   "cell_type": "markdown",
   "id": "6b76d2f4",
   "metadata": {},
   "source": [
    "## Colab: install deps\n",
    "N.B. if you get errors go to: \n",
    "  - Runtime -> Disconnect and Delete Runtime\n",
    "  - then restart"
   ]
  },
  {
   "cell_type": "code",
   "execution_count": 1,
   "id": "30f49001",
   "metadata": {},
   "outputs": [],
   "source": [
    "if 'google.colab' in str(get_ipython()):\n",
    "    !yes | pip install git+https://github.com/mattclifford1/CLIME/ -qqq > /dev/null"
   ]
  },
  {
   "cell_type": "markdown",
   "id": "437a60b6",
   "metadata": {},
   "source": [
    "# Experiments with CLIME "
   ]
  },
  {
   "cell_type": "markdown",
   "id": "1c43ec2d",
   "metadata": {},
   "source": [
    "## Pipeline\n",
    " - dataset:    'moons' or 'guassian'\n",
    " - model:      'normal', 'cost sensitive', 'boundary adjust' or 'probability adjust'\n",
    " - explainer:  'normal', 'cost sensitive training'\n",
    " - evaluation: 'normal fidelity', 'local fidelity' or 'class balanced fidelity'"
   ]
  },
  {
   "cell_type": "code",
   "execution_count": 55,
   "id": "36ebb280",
   "metadata": {},
   "outputs": [
    {
     "name": "stdout",
     "output_type": "stream",
     "text": [
      "class balanced fidelity: 0.94\n"
     ]
    }
   ],
   "source": [
    "from clime import pipeline\n",
    "\n",
    "opts = {\n",
    "        'dataset':       'guassian',\n",
    "        'class samples': [25, 75],\n",
    "        'model':         'normal',\n",
    "        'explainer':     'normal',\n",
    "        'query point':   10,\n",
    "        'evaluation':    'class balanced fidelity',\n",
    "    }\n",
    "score = pipeline.run(opts)\n",
    "print(f\"{opts['evaluation']}: {score}\")"
   ]
  }
 ],
 "metadata": {
  "kernelspec": {
   "display_name": "Python 3 (ipykernel)",
   "language": "python",
   "name": "python3"
  },
  "language_info": {
   "codemirror_mode": {
    "name": "ipython",
    "version": 3
   },
   "file_extension": ".py",
   "mimetype": "text/x-python",
   "name": "python",
   "nbconvert_exporter": "python",
   "pygments_lexer": "ipython3",
   "version": "3.9.15"
  }
 },
 "nbformat": 4,
 "nbformat_minor": 5
}
