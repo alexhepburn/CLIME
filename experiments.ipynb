{
 "cells": [
  {
   "cell_type": "code",
   "execution_count": 1,
   "id": "30f49001",
   "metadata": {},
   "outputs": [],
   "source": [
    "%load_ext autoreload\n",
    "%autoreload 2\n",
    "import clime\n",
    "from clime.utils.notebooks import *"
   ]
  },
  {
   "cell_type": "markdown",
   "id": "437a60b6",
   "metadata": {},
   "source": [
    "# Experiments with CLIME "
   ]
  },
  {
   "cell_type": "code",
   "execution_count": 2,
   "id": "bdeab775",
   "metadata": {},
   "outputs": [
    {
     "name": "stdout",
     "output_type": "stream",
     "text": [
      "synthetic datasets\n"
     ]
    },
    {
     "data": {
      "application/vnd.jupyter.widget-view+json": {
       "model_id": "3017e0d307e341938468b02a89241bcb",
       "version_major": 2,
       "version_minor": 0
      },
      "text/plain": [
       "IntRangeSlider(value=(25, 75), description='CLASS SAMPLES (synthetic datasets):', max=200, min=1)"
      ]
     },
     "metadata": {},
     "output_type": "display_data"
    },
    {
     "name": "stdout",
     "output_type": "stream",
     "text": [
      "real datasets\n"
     ]
    },
    {
     "data": {
      "application/vnd.jupyter.widget-view+json": {
       "model_id": "168366f0b7454df8a942b1306cdb5170",
       "version_major": 2,
       "version_minor": 0
      },
      "text/plain": [
       "FloatSlider(value=0.1, description='PERCENT DATA (real datasets):', max=10.0, min=0.01)"
      ]
     },
     "metadata": {},
     "output_type": "display_data"
    },
    {
     "data": {
      "application/vnd.jupyter.widget-view+json": {
       "model_id": "31fb4af2544a430ca69aaf7e360416cf",
       "version_major": 2,
       "version_minor": 0
      },
      "text/plain": [
       "ToggleButtons(description='DATASET:', options=('moons', 'guassian', 'credit scoring 1', 'credit scoring 2', 'd…"
      ]
     },
     "metadata": {},
     "output_type": "display_data"
    },
    {
     "data": {
      "application/vnd.jupyter.widget-view+json": {
       "model_id": "30857605a3d84069be6e5b72ce796f91",
       "version_major": 2,
       "version_minor": 0
      },
      "text/plain": [
       "ToggleButtons(description='DATASET REBALANCING:', options=('none', 'oversampling'), value='none')"
      ]
     },
     "metadata": {},
     "output_type": "display_data"
    },
    {
     "data": {
      "application/vnd.jupyter.widget-view+json": {
       "model_id": "b77ca4163fbb4756b964650f30b173cc",
       "version_major": 2,
       "version_minor": 0
      },
      "text/plain": [
       "SelectMultiple(description='MODEL:', index=(0,), options=('SVM', 'SVM balanced training'), value=('SVM',))"
      ]
     },
     "metadata": {},
     "output_type": "display_data"
    },
    {
     "data": {
      "application/vnd.jupyter.widget-view+json": {
       "model_id": "fc5ed4d6ede840d0a2589876d1ab5283",
       "version_major": 2,
       "version_minor": 0
      },
      "text/plain": [
       "SelectMultiple(description='MODEL BALANCER:', index=(0,), options=('none', 'boundary adjust', 'probability adj…"
      ]
     },
     "metadata": {},
     "output_type": "display_data"
    },
    {
     "data": {
      "application/vnd.jupyter.widget-view+json": {
       "model_id": "7f15912d0c7141f9b6e7466cb2ec3bc9",
       "version_major": 2,
       "version_minor": 0
      },
      "text/plain": [
       "SelectMultiple(description='EXPLAINER:', index=(0,), options=('bLIMEy (normal)', 'bLIMEy (cost sensitive train…"
      ]
     },
     "metadata": {},
     "output_type": "display_data"
    },
    {
     "data": {
      "application/vnd.jupyter.widget-view+json": {
       "model_id": "dbb0fcc5611b4a0e8512533abd104328",
       "version_major": 2,
       "version_minor": 0
      },
      "text/plain": [
       "SelectMultiple(description='EVALUATION:', index=(0,), options=('fidelity (normal)', 'fidelity (local)', 'fidel…"
      ]
     },
     "metadata": {},
     "output_type": "display_data"
    }
   ],
   "source": [
    "data_store = get_pipeline_widgets()"
   ]
  },
  {
   "cell_type": "code",
   "execution_count": 5,
   "id": "768f4bae",
   "metadata": {},
   "outputs": [
    {
     "data": {
      "application/javascript": [
       "IPython.notebook.execute_cells_below()"
      ],
      "text/plain": [
       "<IPython.core.display.Javascript object>"
      ]
     },
     "metadata": {},
     "output_type": "display_data"
    },
    {
     "data": {
      "application/vnd.jupyter.widget-view+json": {
       "model_id": "ef1538f3a9474cd0b28cf45f3726b67a",
       "version_major": 2,
       "version_minor": 0
      },
      "text/plain": [
       "Button(description='RUN PIPELINE', style=ButtonStyle())"
      ]
     },
     "metadata": {},
     "output_type": "display_data"
    }
   ],
   "source": [
    "get_run_button()"
   ]
  },
  {
   "cell_type": "code",
   "execution_count": 6,
   "id": "36ebb280",
   "metadata": {},
   "outputs": [
    {
     "name": "stdout",
     "output_type": "stream",
     "text": [
      "====================================================================================================\n",
      "0: \n",
      "    {'class samples': (25, 75), 'percent of data': 0.11000000000000001, 'dataset': 'moons', 'dataset rebalancing': 'none', 'model': 'SVM', 'model balancer': 'none', 'explainer': 'bLIMEy (normal)', 'evaluation': 'fidelity (local)'}\n",
      "            Model     accuracy. train: 0.97 test: 0.99\n",
      "            Model bal accuracy. train: 0.9533333333333334 test: 0.98\n"
     ]
    },
    {
     "name": "stderr",
     "output_type": "stream",
     "text": [
      "                                                                                                                               \r"
     ]
    },
    {
     "name": "stdout",
     "output_type": "stream",
     "text": [
      "====================================================================================================\n",
      "1: \n",
      "    {'class samples': (25, 75), 'percent of data': 0.11000000000000001, 'dataset': 'moons', 'dataset rebalancing': 'none', 'model': 'SVM', 'model balancer': 'none', 'explainer': 'bLIMEy (cost sensitive training)', 'evaluation': 'fidelity (local)'}\n",
      "            Model     accuracy. train: 0.97 test: 0.99\n",
      "            Model bal accuracy. train: 0.9533333333333334 test: 0.98\n"
     ]
    },
    {
     "name": "stderr",
     "output_type": "stream",
     "text": [
      "                                                                                                                               \r"
     ]
    },
    {
     "name": "stdout",
     "output_type": "stream",
     "text": [
      "====================================================================================================\n",
      "2: \n",
      "    {'class samples': (25, 75), 'percent of data': 0.11000000000000001, 'dataset': 'moons', 'dataset rebalancing': 'none', 'model': 'SVM', 'model balancer': 'none', 'explainer': 'bLIMEy (rebalance data training)', 'evaluation': 'fidelity (local)'}\n",
      "            Model     accuracy. train: 0.97 test: 0.99\n",
      "            Model bal accuracy. train: 0.9533333333333334 test: 0.98\n"
     ]
    },
    {
     "name": "stderr",
     "output_type": "stream",
     "text": [
      "                                                                                                                               \r"
     ]
    },
    {
     "data": {
      "image/png": "[encoded data removed]",
      "text/plain": [
       "<Figure size 640x480 with 1 Axes>"
      ]
     },
     "metadata": {},
     "output_type": "display_data"
    }
   ],
   "source": [
    "run_experiments(data_store)"
   ]
  }
 ],
 "metadata": {
  "kernelspec": {
   "display_name": "Python 3 (ipykernel)",
   "language": "python",
   "name": "python3"
  },
  "language_info": {
   "codemirror_mode": {
    "name": "ipython",
    "version": 3
   },
   "file_extension": ".py",
   "mimetype": "text/x-python",
   "name": "python",
   "nbconvert_exporter": "python",
   "pygments_lexer": "ipython3",
   "version": "3.9.15"
  }
 },
 "nbformat": 4,
 "nbformat_minor": 5
}
