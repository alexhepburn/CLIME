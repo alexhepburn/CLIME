{
 "cells": [
  {
   "cell_type": "code",
   "execution_count": 1,
   "id": "30f49001",
   "metadata": {},
   "outputs": [
    {
     "name": "stderr",
     "output_type": "stream",
     "text": [
      "/home/matt/projects/CLIME/clime/pipeline/make_pipeline.py:13: TqdmExperimentalWarning: Using `tqdm.autonotebook.tqdm` in notebook mode. Use `tqdm.tqdm` instead to force console mode (e.g. in jupyter console)\n",
      "  from tqdm.autonotebook import tqdm\n"
     ]
    }
   ],
   "source": [
    "%load_ext autoreload\n",
    "%autoreload 2\n",
    "import clime\n",
    "from clime.utils.notebooks import *"
   ]
  },
  {
   "cell_type": "markdown",
   "id": "437a60b6",
   "metadata": {},
   "source": [
    "# Experiments with CLIME "
   ]
  },
  {
   "cell_type": "code",
   "execution_count": 2,
   "id": "bdeab775",
   "metadata": {},
   "outputs": [
    {
     "name": "stdout",
     "output_type": "stream",
     "text": [
      "synthetic datasets\n"
     ]
    },
    {
     "data": {
      "application/vnd.jupyter.widget-view+json": {
       "model_id": "de8f11c4a7924e31a7d43c0745da16fb",
       "version_major": 2,
       "version_minor": 0
      },
      "text/plain": [
       "IntRangeSlider(value=(25, 75), description='CLASS SAMPLES (synthetic datasets):', max=200, min=1)"
      ]
     },
     "metadata": {},
     "output_type": "display_data"
    },
    {
     "name": "stdout",
     "output_type": "stream",
     "text": [
      "real datasets\n"
     ]
    },
    {
     "data": {
      "application/vnd.jupyter.widget-view+json": {
       "model_id": "655941c2cf89481e8eaa2598ef577c59",
       "version_major": 2,
       "version_minor": 0
      },
      "text/plain": [
       "FloatSlider(value=0.1, description='PERCENT DATA (real datasets):', max=10.0, min=0.01)"
      ]
     },
     "metadata": {},
     "output_type": "display_data"
    },
    {
     "data": {
      "application/vnd.jupyter.widget-view+json": {
       "model_id": "b325e8cc83964a4f8f5c01badb8f4b1b",
       "version_major": 2,
       "version_minor": 0
      },
      "text/plain": [
       "ToggleButtons(description='DATASET:', options=('moons', 'guassian', 'credit scoring 1', 'credit scoring 2', 'd…"
      ]
     },
     "metadata": {},
     "output_type": "display_data"
    },
    {
     "data": {
      "application/vnd.jupyter.widget-view+json": {
       "model_id": "eae3c531635946f29bd416d7959a573b",
       "version_major": 2,
       "version_minor": 0
      },
      "text/plain": [
       "ToggleButtons(description='DATASET REBALANCING:', options=('none', 'oversampling'), value='none')"
      ]
     },
     "metadata": {},
     "output_type": "display_data"
    },
    {
     "data": {
      "application/vnd.jupyter.widget-view+json": {
       "model_id": "013f8c9b20d648d3b9507383734d4458",
       "version_major": 2,
       "version_minor": 0
      },
      "text/plain": [
       "SelectMultiple(description='MODEL:', index=(0,), options=('SVM', 'SVM balanced training', 'Logistic', 'Logisti…"
      ]
     },
     "metadata": {},
     "output_type": "display_data"
    },
    {
     "data": {
      "application/vnd.jupyter.widget-view+json": {
       "model_id": "db3162d32408460c88533207b20aac4f",
       "version_major": 2,
       "version_minor": 0
      },
      "text/plain": [
       "SelectMultiple(description='MODEL BALANCER:', index=(0,), options=('none', 'boundary adjust', 'probability adj…"
      ]
     },
     "metadata": {},
     "output_type": "display_data"
    },
    {
     "data": {
      "application/vnd.jupyter.widget-view+json": {
       "model_id": "5da4255cf2f54cebb098606b7d6b5ffc",
       "version_major": 2,
       "version_minor": 0
      },
      "text/plain": [
       "SelectMultiple(description='EXPLAINER:', index=(0,), options=('bLIMEy (normal)', 'bLIMEy (cost sensitive sampl…"
      ]
     },
     "metadata": {},
     "output_type": "display_data"
    },
    {
     "data": {
      "application/vnd.jupyter.widget-view+json": {
       "model_id": "0d44130c17114f7d914c6367614d83e6",
       "version_major": 2,
       "version_minor": 0
      },
      "text/plain": [
       "SelectMultiple(description='EVALUATION:', index=(0,), options=('fidelity (normal)', 'fidelity (local)', 'fidel…"
      ]
     },
     "metadata": {},
     "output_type": "display_data"
    }
   ],
   "source": [
    "data_store = get_pipeline_widgets()"
   ]
  },
  {
   "cell_type": "code",
   "execution_count": 6,
   "id": "768f4bae",
   "metadata": {},
   "outputs": [
    {
     "data": {
      "application/javascript": [
       "IPython.notebook.execute_cells_below()"
      ],
      "text/plain": [
       "<IPython.core.display.Javascript object>"
      ]
     },
     "metadata": {},
     "output_type": "display_data"
    },
    {
     "data": {
      "application/vnd.jupyter.widget-view+json": {
       "model_id": "7e445473edf54c379bb875a1fc999107",
       "version_major": 2,
       "version_minor": 0
      },
      "text/plain": [
       "Button(description='RUN PIPELINE', style=ButtonStyle())"
      ]
     },
     "metadata": {},
     "output_type": "display_data"
    }
   ],
   "source": [
    "get_run_button()"
   ]
  },
  {
   "cell_type": "code",
   "execution_count": null,
   "id": "36ebb280",
   "metadata": {},
   "outputs": [
    {
     "data": {
      "application/vnd.jupyter.widget-view+json": {
       "model_id": "8de6df74c75d43ff95ddbc4e495a48bc",
       "version_major": 2,
       "version_minor": 0
      },
      "text/plain": [
       "Pipeline runs:   0%|          | 0/4 [00:00<?, ?it/s]"
      ]
     },
     "metadata": {},
     "output_type": "display_data"
    }
   ],
   "source": [
    "results = run_experiments(data_store)"
   ]
  },
  {
   "cell_type": "code",
   "execution_count": null,
   "id": "66c8e2f2",
   "metadata": {},
   "outputs": [],
   "source": [
    "plot_model_and_stats(results)"
   ]
  }
 ],
 "metadata": {
  "kernelspec": {
   "display_name": "Python 3 (ipykernel)",
   "language": "python",
   "name": "python3"
  },
  "language_info": {
   "codemirror_mode": {
    "name": "ipython",
    "version": 3
   },
   "file_extension": ".py",
   "mimetype": "text/x-python",
   "name": "python",
   "nbconvert_exporter": "python",
   "pygments_lexer": "ipython3",
   "version": "3.9.15"
  }
 },
 "nbformat": 4,
 "nbformat_minor": 5
}
