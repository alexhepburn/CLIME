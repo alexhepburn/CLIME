{
 "cells": [
  {
   "cell_type": "markdown",
   "id": "8294d2b9",
   "metadata": {},
   "source": [
    "## Colab: install deps"
   ]
  },
  {
   "cell_type": "code",
   "execution_count": 1,
   "id": "8e12c6c3",
   "metadata": {},
   "outputs": [],
   "source": [
    "if 'google.colab' in str(get_ipython()):\n",
    "  !pip install git+https://github.com/mattclifford1/CLIME"
   ]
  },
  {
   "cell_type": "markdown",
   "id": "687e3e73",
   "metadata": {},
   "source": [
    "# Pipeline for CLIME: Cost-sensitive LIME "
   ]
  },
  {
   "cell_type": "code",
   "execution_count": 2,
   "id": "9b589dc2",
   "metadata": {},
   "outputs": [
    {
     "name": "stderr",
     "output_type": "stream",
     "text": [
      "22-Dec-15 16:26:17 fatf.utils.array.tools INFO     Using numpy's numpy.lib.recfunctions.structured_to_unstructured as fatf.utils.array.tools.structured_to_unstructured and fatf.utils.array.tools.structured_to_unstructured_row.\n",
      "/home/matt/anaconda3/envs/clime/lib/python3.9/site-packages/fatf/vis/__init__.py:20: MatplotlibDeprecationWarning: The seaborn styles shipped by Matplotlib are deprecated since 3.6, as they no longer correspond to the styles shipped by seaborn. However, they will remain available as 'seaborn-v0_8-<style>'. Alternatively, directly use the seaborn API instead.\n",
      "  plt.style.use('seaborn')\n"
     ]
    }
   ],
   "source": [
    "import matplotlib.pyplot as plt\n",
    "import numpy as np\n",
    "from clime import data, model, explainer, plot_utils"
   ]
  },
  {
   "cell_type": "markdown",
   "id": "54169365",
   "metadata": {},
   "source": [
    "# Data \n",
    "Set up class samples"
   ]
  },
  {
   "cell_type": "code",
   "execution_count": 14,
   "id": "75e3e9fa",
   "metadata": {},
   "outputs": [],
   "source": [
    "# setup class proportions\n",
    "c1 = 25\n",
    "c2 = 75\n",
    "n_samples = c1 + c2\n",
    "max_class = max(c1, c2)\n",
    "class_proportions = [c1/max_class, c2/max_class]"
   ]
  },
  {
   "cell_type": "markdown",
   "id": "e7c0943a",
   "metadata": {},
   "source": [
    "Generate data"
   ]
  },
  {
   "cell_type": "code",
   "execution_count": 15,
   "id": "33a1722c",
   "metadata": {},
   "outputs": [
    {
     "name": "stdout",
     "output_type": "stream",
     "text": [
      "100\n",
      "\n",
      " rebalancing classes... \n",
      "\n",
      "--------------------------------------------------\n",
      "Class 0 | Balanced = 50 , Unbalanced = 16\n",
      "--------------------------------------------------\n",
      "Class 1 | Balanced = 50 , Unbalanced = 50\n"
     ]
    }
   ],
   "source": [
    "# generate data - moons or Guassian\n",
    "balanced_train_data = data.get_moons(samples=n_samples)\n",
    "# balanced_train_data = data.get_gaussian(samples=n_samples)\n",
    "\n",
    "# get an unbalanced version of the dataset (uniform random removal of a class)\n",
    "unbalanced_train_data = data.unbalance(balanced_train_data, class_proportions)"
   ]
  },
  {
   "cell_type": "markdown",
   "id": "6dd808b6",
   "metadata": {},
   "source": [
    "Plot the datasets"
   ]
  },
  {
   "cell_type": "code",
   "execution_count": 5,
   "id": "aebd0232",
   "metadata": {},
   "outputs": [
    {
     "name": "stdout",
     "output_type": "stream",
     "text": [
      "Class 1 | 62\n",
      "Class 0 | 15\n"
     ]
    },
    {
     "ename": "ValueError",
     "evalue": "Sample larger than population or is negative",
     "output_type": "error",
     "traceback": [
      "\u001b[0;31m---------------------------------------------------------------------------\u001b[0m",
      "\u001b[0;31mValueError\u001b[0m                                Traceback (most recent call last)",
      "Cell \u001b[0;32mIn[5], line 4\u001b[0m\n\u001b[1;32m      1\u001b[0m datasets \u001b[38;5;241m=\u001b[39m {\n\u001b[1;32m      2\u001b[0m     \u001b[38;5;124m'\u001b[39m\u001b[38;5;124mbalanced data\u001b[39m\u001b[38;5;124m'\u001b[39m: balanced_train_data, \n\u001b[1;32m      3\u001b[0m     \u001b[38;5;124m'\u001b[39m\u001b[38;5;124munbalanced data\u001b[39m\u001b[38;5;124m'\u001b[39m: unbalanced_train_data,\n\u001b[0;32m----> 4\u001b[0m     \u001b[38;5;124m'\u001b[39m\u001b[38;5;124mrebalanced data\u001b[39m\u001b[38;5;124m'\u001b[39m: \u001b[43mdata\u001b[49m\u001b[38;5;241;43m.\u001b[39;49m\u001b[43mbalance\u001b[49m\u001b[43m(\u001b[49m\u001b[43munbalanced_train_data\u001b[49m\u001b[43m,\u001b[49m\u001b[43m \u001b[49m\u001b[43mverbose\u001b[49m\u001b[38;5;241;43m=\u001b[39;49m\u001b[38;5;28;43;01mTrue\u001b[39;49;00m\u001b[43m)\u001b[49m,\n\u001b[1;32m      5\u001b[0m     }\n\u001b[1;32m      6\u001b[0m plot_utils\u001b[38;5;241m.\u001b[39mplot_data_dict(datasets)\n",
      "File \u001b[0;32m~/projects/CLIME/clime/data.py:171\u001b[0m, in \u001b[0;36mbalance\u001b[0;34m(data, verbose)\u001b[0m\n\u001b[1;32m    169\u001b[0m \u001b[38;5;28;01mif\u001b[39;00m class_size \u001b[38;5;241m<\u001b[39m max_freq:\n\u001b[1;32m    170\u001b[0m     random\u001b[38;5;241m.\u001b[39mseed(\u001b[38;5;28mint\u001b[39m(clime\u001b[38;5;241m.\u001b[39mRANDOM_SEED\u001b[38;5;241m+\u001b[39mlabel))\n\u001b[0;32m--> 171\u001b[0m     balanced_i \u001b[38;5;241m=\u001b[39m [\u001b[38;5;28mint\u001b[39m(i) \u001b[38;5;28;01mfor\u001b[39;00m i \u001b[38;5;129;01min\u001b[39;00m np\u001b[38;5;241m.\u001b[39mappend(balanced_i,\u001b[43mrandom\u001b[49m\u001b[38;5;241;43m.\u001b[39;49m\u001b[43msample\u001b[49m\u001b[43m(\u001b[49m\u001b[43mlabel_i\u001b[49m\u001b[43m,\u001b[49m\u001b[43mmax_freq\u001b[49m\u001b[38;5;241;43m-\u001b[39;49m\u001b[43mclass_size\u001b[49m\u001b[43m)\u001b[49m)]\n\u001b[1;32m    172\u001b[0m     balanced_i \u001b[38;5;241m=\u001b[39m np\u001b[38;5;241m.\u001b[39mappend(label_i,balanced_i)\n\u001b[1;32m    173\u001b[0m \u001b[38;5;28;01melse\u001b[39;00m:\n",
      "File \u001b[0;32m~/anaconda3/envs/clime/lib/python3.9/random.py:449\u001b[0m, in \u001b[0;36mRandom.sample\u001b[0;34m(self, population, k, counts)\u001b[0m\n\u001b[1;32m    447\u001b[0m randbelow \u001b[38;5;241m=\u001b[39m \u001b[38;5;28mself\u001b[39m\u001b[38;5;241m.\u001b[39m_randbelow\n\u001b[1;32m    448\u001b[0m \u001b[38;5;28;01mif\u001b[39;00m \u001b[38;5;129;01mnot\u001b[39;00m \u001b[38;5;241m0\u001b[39m \u001b[38;5;241m<\u001b[39m\u001b[38;5;241m=\u001b[39m k \u001b[38;5;241m<\u001b[39m\u001b[38;5;241m=\u001b[39m n:\n\u001b[0;32m--> 449\u001b[0m     \u001b[38;5;28;01mraise\u001b[39;00m \u001b[38;5;167;01mValueError\u001b[39;00m(\u001b[38;5;124m\"\u001b[39m\u001b[38;5;124mSample larger than population or is negative\u001b[39m\u001b[38;5;124m\"\u001b[39m)\n\u001b[1;32m    450\u001b[0m result \u001b[38;5;241m=\u001b[39m [\u001b[38;5;28;01mNone\u001b[39;00m] \u001b[38;5;241m*\u001b[39m k\n\u001b[1;32m    451\u001b[0m setsize \u001b[38;5;241m=\u001b[39m \u001b[38;5;241m21\u001b[39m        \u001b[38;5;66;03m# size of a small set minus size of an empty list\u001b[39;00m\n",
      "\u001b[0;31mValueError\u001b[0m: Sample larger than population or is negative"
     ]
    }
   ],
   "source": [
    "datasets = {\n",
    "    'balanced data': balanced_train_data, \n",
    "    'unbalanced data': unbalanced_train_data,\n",
    "    'rebalanced data': data.balance(unbalanced_train_data, verbose=True),\n",
    "    }\n",
    "plot_utils.plot_data_dict(datasets)"
   ]
  },
  {
   "cell_type": "markdown",
   "id": "b4c4d487",
   "metadata": {},
   "source": [
    "# Model"
   ]
  },
  {
   "cell_type": "code",
   "execution_count": null,
   "id": "577b7d97",
   "metadata": {},
   "outputs": [],
   "source": [
    "clf = model.SVM(balanced_train_data)\n",
    "clf_unbal = model.SVM(unbalanced_train_data)"
   ]
  },
  {
   "cell_type": "markdown",
   "id": "c645123b",
   "metadata": {},
   "source": [
    "plot the models' decision boundaries"
   ]
  },
  {
   "cell_type": "code",
   "execution_count": null,
   "id": "d4b30bc8",
   "metadata": {},
   "outputs": [],
   "source": [
    "models = {\n",
    "          'generated': {'model': clf, 'data': balanced_train_data}, \n",
    "          'unbalanced': {'model': clf_unbal, 'data': unbalanced_train_data}\n",
    "         }\n",
    "plot_utils.plot_clfs(models)"
   ]
  },
  {
   "cell_type": "markdown",
   "id": "6617f1c5",
   "metadata": {},
   "source": [
    "## Balanced training comparision"
   ]
  },
  {
   "cell_type": "code",
   "execution_count": null,
   "id": "0eae47da",
   "metadata": {},
   "outputs": [],
   "source": [
    "models = {\n",
    "          'normal': {'model': clf_unbal, 'data': unbalanced_train_data}, \n",
    "          'weighted training': {'model': model.SVM(unbalanced_train_data, class_weight='balanced'), 'data': unbalanced_train_data},\n",
    "          'boundary adjust': {'model': model.SVM_balance_boundary(unbalanced_train_data, boundary_weight=1), 'data': unbalanced_train_data},\n",
    "          'probability adjust': {'model': model.SVM_balance_proba(unbalanced_train_data), 'data': unbalanced_train_data},\n",
    "         }"
   ]
  },
  {
   "cell_type": "markdown",
   "id": "e720470c",
   "metadata": {},
   "source": [
    "plot adjusted classifiers"
   ]
  },
  {
   "cell_type": "code",
   "execution_count": null,
   "id": "5381a9d2",
   "metadata": {},
   "outputs": [],
   "source": [
    "plot_utils.plot_clfs(models)"
   ]
  },
  {
   "cell_type": "markdown",
   "id": "b633ca15",
   "metadata": {},
   "source": [
    "# Explainer"
   ]
  },
  {
   "cell_type": "code",
   "execution_count": null,
   "id": "51232c67",
   "metadata": {},
   "outputs": [],
   "source": [
    "lime = explainer.LIME(balanced_train_data, clf)\n",
    "lime_explanation = lime(balanced_train_data['X'][0, :])\n",
    "\n",
    "lime_unbal = explainer.LIME(unbalanced_train_data, clf_unbal)\n",
    "lime_explanation = lime_unbal(unbalanced_train_data['X'][0, :])"
   ]
  },
  {
   "cell_type": "markdown",
   "id": "f6008d22",
   "metadata": {},
   "source": [
    "## Balanced Data Explanation"
   ]
  },
  {
   "cell_type": "code",
   "execution_count": null,
   "id": "18bc3396",
   "metadata": {},
   "outputs": [],
   "source": [
    "lime.plot_explanation()"
   ]
  },
  {
   "cell_type": "markdown",
   "id": "24732d01",
   "metadata": {},
   "source": [
    "## Unbalanced Data Explanation"
   ]
  },
  {
   "cell_type": "code",
   "execution_count": null,
   "id": "003f4725",
   "metadata": {},
   "outputs": [],
   "source": [
    "lime_unbal.plot_explanation()"
   ]
  }
 ],
 "metadata": {
  "kernelspec": {
   "display_name": "Python 3 (ipykernel)",
   "language": "python",
   "name": "python3"
  },
  "language_info": {
   "codemirror_mode": {
    "name": "ipython",
    "version": 3
   },
   "file_extension": ".py",
   "mimetype": "text/x-python",
   "name": "python",
   "nbconvert_exporter": "python",
   "pygments_lexer": "ipython3",
   "version": "3.9.15"
  }
 },
 "nbformat": 4,
 "nbformat_minor": 5
}
